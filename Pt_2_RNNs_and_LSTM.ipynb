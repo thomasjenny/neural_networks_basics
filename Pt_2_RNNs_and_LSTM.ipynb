{
 "cells": [
  {
   "cell_type": "markdown",
   "id": "912e2f67-a8ae-4afc-b4ce-45c1652612bc",
   "metadata": {},
   "source": [
    "# Neural Networks Basics Pt. 2: Recurrent Neural Networks and LSTM\n",
    "\n",
    "## Table of Contents\n",
    "\n",
    "* [Recurrent Neural Networks (RNN)](#recurrent_neural_networks)\n",
    "* [Long Short-Term Memory (LSTM)](#lstm)\n",
    "* [RNN Example with *Keras/TensorFlow*](#rnn_with_keras_tensorflow)\n",
    "    * [Data Preparation: Text Cleaning, Tokenization and Normalization](#data_preparation_1)\n",
    "    * [Data Preparation: Creation of Text Sequences](#data_preparation_2)\n",
    "    * [Data Preparation: Vectorization](#data_preparation_3)\n",
    "    * [Model Creation, Compiling, and Fitting](#model_creation)\n",
    "    * [Token Generation and Model Comparisons](#token_generation)\n",
    "    * [Text Generation](#text_generation)\n",
    "* [Sources](#sources)"
   ]
  },
  {
   "cell_type": "markdown",
   "id": "08d6e7d7-f0dc-4206-accf-afad626888b3",
   "metadata": {},
   "source": [
    "## Recurrent Neural Networks (RNN) <a id=\"recurrent_neural_networks\"></a>\n",
    "\n",
    "**Recurrent neural networks** are **bi-directional** artificial neural networks which means that the output of some nodes can affect subsequent input to the same nodes, i.e., information from previous inputs are used to influence current inputs and outputs. While \"traditional\" neural networks are built on the assumption that all inputs and outputs are independent of each other, RNNs make use of **sequential information**. Therefore, common applications for RNNs include:\n",
    "\n",
    "* **Speech recognition**: recognizing and transcribing spoken language\n",
    "* **Time series prediction** (e.g., financial forecasting)\n",
    "* **Video analysis** (e.g., action and gesture recognition, tracking moving objects in videos) and **text-to-video**\n",
    "* **Anomaly detection** in sequential data\n",
    "* **Recommender systems**\n",
    "\n",
    "While the concept of an adaptive RNN has been propagated since the 1970s ([Hopfield network](https://en.wikipedia.org/wiki/Hopfield_network)), RNN architectures became the most popular solution to solve **natural language processing (NLP)** tasks from the mid-2000s onwards, especially after the advent of **[long short-term memory (LSTM)](#lstm)** networks. The concept of utilizing sequential data makes RNNs predestined for NLP tasks. For example, predicting the next word in a sentence requires knowledge of all words that came before this specific word. RNNs can solve tasks like this by performing the same task for every element of a sequence, with the **output being dependend on the previous outcomes**. This means that RNNs have a \"memory\" that caputures previously calculated information.<a name=\"footnote_ref-1\"></a>[<sup>1</sup>](#footnote-1) In general, RNNs have the same input and output architecture as \"traditional\" feed-forward networks. However, the information flow from input to output is different as...\n",
    "\n",
    "* the **weights remain the same** across the entire network (instead of utilizing different weight matrices for each hidden layer),<a name=\"footnote_ref-2\"></a>[<sup>2</sup>](#footnote-2) and\n",
    "* **recurrent units** introduce **cycles** through which the sequential information is passed.\n",
    "\n",
    "<img src=\"./img/recurrent_neural_network.png\" style=\"margin:auto\"/>\n",
    "\n",
    "RNNs handle sequential data by feeding the output of a previous step as input to the current step through these **cycles**. The previous inputs (i.e., the \"memory\") are \"remembered\" in the network's **hidden state** $s$ (also known as **memory state**) which utilizes **the same parameters on each input** across several time steps.<a name=\"footnote_ref-2\"></a>[<sup>2</sup>](#footnote-2)<sup>,</sup> <a name=\"footnote_ref-3\"></a>[<sup>3</sup>](#footnote-3) In this context, \"time steps\" do not refer to the actual passing of time, but to the position of a state $s$ within a sequence:\n",
    "\n",
    "$$\\underbrace{s^{(t-1)}}_{\\text{past state}} \\rightarrow \\underbrace{s^{(t)}}_{\\text{current state}} \\rightarrow \\underbrace{s^{(t+1)}}_{\\text{future state}}$$\n",
    "\n",
    "This results in a **recurrent computation** over the input sequence which can be unfolded into a directed acyclic computational graph. The recurrent unit receives two inputs:\n",
    "\n",
    "1. The output of the previous layer $h^{(t-1)}$, and\n",
    "2. an input at time step $x^{(t)}$.\n",
    "\n",
    "Therefore, the **hidden state** $h$ within the recurrent unit can be represented by\n",
    "\n",
    "$$h^{(t)} = f(h^{(t-1)}, x^{(t)}; \\theta)$$\n",
    "\n",
    "where $\\theta$ represents the model's learnable parameters (i.e., weights and bias).<a name=\"footnote_ref-4\"></a>[<sup>4</sup>](#footnote-4) The following image displays an unfolded RNN over three time steps, where $U$, $V$, and $W$ are weight matrices:<a name=\"footnote_ref-5\"></a>[<sup>5</sup>](#footnote-5)\n",
    "\n",
    "* $U$ = weight matrix for input-to-hidden connections\n",
    "* $V$ = weight matrix for hidden-to-output connections\n",
    "* $W$ = weight matrix for hidden-to-hidden connections\n",
    "\n",
    "<img src=\"./img/recurrence_unfolded.png\" style=\"margin:auto\"/>"
   ]
  },
  {
   "cell_type": "markdown",
   "id": "d921f341-d6e3-417f-b265-969b8617dc55",
   "metadata": {},
   "source": [
    "The forward propagation through the recurrent computation steps are similar to the ones in a \"traditional\" feedforward neural network with the goal to map an input sequence of $x$ values to a corresponding sequence of output values $o$:<a name=\"footnote_ref-5\"></a>[<sup>5</sup>](#footnote-5)\n",
    "\n",
    "1. Specifiction of the **initial state** $h^{(0)}$, e.g., by setting it to a non-zero value.\n",
    "2. For each time step $t$ from $t = 1$:\n",
    "    1. Calculate the **activation** $a^{(t)}$ by multiplying the previous hidden state with the hidden-to-hidden weight matrix $W$, multiplying the input $x$ with the weight matrix $U$, and adding the bias $b$:\n",
    "    $$a^{(t)} = b + Wh^{(t-1)} + Ux^{(t)}$$\n",
    "    \n",
    "    2. Calculate the **hidden state** by applying **nonlinearity**, e.g., **tanh** (hyperbolic tangent, but other activation functions are possible, e.g., ReLU or sigmoid):\n",
    "    $$h^{(t)} = \\text{tanh}(a^{(t)})$$\n",
    "    \n",
    "    3. Calculate the **output** $o$, i.e., the unnormalized log probabilities for each possible value of the discrete variable, by multiplying the current hidden state $h^{(t)}$ with the hidden-to-output weight matrix $V$, and adding the bias $c$:\n",
    "    $$o^{(t)} = c + Vh^{(t)}$$\n",
    "    \n",
    "    4. Calculate the normalized probabilities $\\hat{y}^{(t)}$ of the output $o^{(t)}$ by passing the output through the softmax function:\n",
    "    $$\\hat{y}^{(t)} = \\text{softmax}(o^{(t)})$$\n",
    "\n",
    "This computation uses the same weights for each time step, which has two effects: (1) the model has fewer parameters to learn, and (2) the model is independent of the length of the input sequence.<a name=\"footnote_ref-6\"></a>[<sup>6</sup>](#footnote-6)"
   ]
  },
  {
   "cell_type": "markdown",
   "id": "4963b294-703e-49bf-a21c-177a562dbb74",
   "metadata": {
    "tags": []
   },
   "source": [
    "<img src=\"./img/recurrent_neural_network_unfolded.png\" style=\"margin:auto\"/>"
   ]
  },
  {
   "cell_type": "markdown",
   "id": "1f142a84-dd6e-4a00-b8ef-e4ecc8659bee",
   "metadata": {
    "tags": []
   },
   "source": [
    "Now, the loss $L$ can be calculated. The **negative log likelihood** of a classification task maximizes the probability of choosing the correct category by minimizing the negative log likelihood, e.g., if the output probabilities of a model is\n",
    "$$\\hat{y} = [0.1, 0.3, 0.5, 0.1]$$\n",
    "\n",
    "and the ground truth labels are\n",
    "$$[0, 0, 0, 1]$$\n",
    "\n",
    "the current model state likelihood is\n",
    "$$0 \\cdot 0.1 + 0 \\cdot 0.3 + 0 \\cdot 0.5 + 1 \\cdot 0.1 = 0.1$$\n",
    "\n",
    "The negative logarithm of the state likelihood is calculated for numeric stability (in case the numbers get very big or very small) and to achieve the maximization of the probability of choosing the correct category. If the negative log likelihood is minimizied, this probability increases (which is also consistend with the idea of a model getting better as the loss function approaches 0):\n",
    "$$-\\text{log}(0.1) = 2.3$$\n",
    "\n",
    "If – for the same example – the ground truth labels would be \n",
    "$$[0, 0, 1, 0]$$\n",
    "\n",
    "the negative log likelihood is\n",
    "$$\\begin{align}\n",
    "0 \\cdot 0.1 + 0 \\cdot 0.3 + 1 \\cdot 0.5 + 0 \\cdot 0.1 &= 0.5 \\\\\n",
    "-\\text{log}(0.5) &= 0.69\n",
    "\\end{align}$$\n",
    "\n",
    "which means that the loss is lower and therefore, the probability of predicting the correct class is higher.<a name=\"footnote_ref-7\"></a>[<sup>7</sup>](#footnote-7) This loss can be calculated for each time step. Therefore, the total loss $L$ for a sequence of $x$ values paired with a squence of $y$ values is the sum of all losses over all time steps:\n",
    "\n",
    "$$L = - \\sum_{t} \\text{log } p_{\\text{model}} \\left( y^{(t)} | \\{ x^{(1)}, \\ldots, x^{(t)} \\} \\right) $$\n",
    "\n",
    "where $y^{(t)}$ is the entry from the output vector $\\hat{y}^{(t)}$ that corresponds to the respective value $x$.<a name=\"footnote_ref-8\"></a>[<sup>8</sup>](#footnote-8) The **multiclass cross entropy loss** is a different interpretation of the same formula:<a name=\"footnote_ref-9\"></a>[<sup>9</sup>](#footnote-9)\n",
    "\n",
    "$$L = - \\sum_{t} y^{(t)} \\text{log }\\hat{y}^{(t)}$$"
   ]
  },
  {
   "cell_type": "markdown",
   "id": "45a67ec0-797b-4d3e-b8af-054449ee751c",
   "metadata": {},
   "source": [
    "Computing the gradient of the loss function for an RNN works similar to a \"traditional\" feed-forward network: first, the forward propagation is computed, followed by the backward propagation. This operation is called **backpropagation through time (BPTT)**. The goal is to adjust the weights $U$, $V$, and $W$ in a way that minimizes the error of the RNN's output $\\hat{y}$ in comparison to the expected output $y$. This is achieved by calculating the **derivatives** $\\partial$ of the error (i.e., the **gradient**) with respect to the RNN's weights and bias.<a name=\"footnote_ref-10\"></a>[<sup>10</sup>](#footnote-10)<sup>, </sup><a name=\"footnote_ref-11\"></a>[<sup>11</sup>](#footnote-11) The following terms affect the change in the weights when considering a single time step:<a name=\"footnote_ref-12\"></a>[<sup>12</sup>](#footnote-12)\n",
    "\n",
    "* Change in the loss $L$ with respect to the change in the normalized prediction of the current output $\\hat{y}^{(t)}$: $\\frac{\\partial L}{\\partial \\hat{y}^{(t)}}$\n",
    "* Change in the normalized prediction for the current time step $\\hat{y}^{(t)}$ with respect to the change in the current hidden state $h^{(t)}$: $\\frac{\\partial \\hat{y}^{(t)}}{\\partial h^{(t)}}$\n",
    "* Change in the current hidden state $h^{(t)}$ with respect to the previous hidden state $h^{(t-1)}$: $\\frac{\\partial h^{(t)}}{\\partial h^{(t-1)}}$\n",
    "* Change in the previous hidden state with respect to the change in the weigts ($U$, $V$, or $W$): $\\frac{\\partial h^{(t-1)}}{\\partial W}$\n",
    "\n",
    "By application of the **chain rule**, the gradients can now be calculated. Since the RNN computes multiple time steps, the **gradients of all time steps** must be summed up for each weight and bias adjustment:<a name=\"footnote_ref-12\"></a>[<sup>12</sup>](#footnote-12)<sup>, </sup><a name=\"footnote_ref-13\"></a>[<sup>13</sup>](#footnote-13)\n",
    "\n",
    "* Gradient for the input-to-hidden weight matrix $U$: $\\frac{\\partial L}{\\partial U}$ (the gradients of the hidden states are accumulated through time by multiplying the sequence)\n",
    "$$\\frac{\\partial L}{\\partial U} = \\sum^{t}_{i=0} \\frac{\\partial L}{\\partial \\hat{y}^{(t-i)}} \\frac{\\partial \\hat{y}^{(t-i)}}{\\partial h^{(t-i)}} \\left( \\prod^{t}_{j=t-i+1} \\frac{\\partial h^{(t-j+1)}}{\\partial h^{(t-j)}} \\right) \\frac{\\partial h^{(t-i-1)}}{\\partial U}$$\n",
    "\n",
    "* Gradient for the hidden-to-hidden weight matrix $W$: $\\frac{\\partial L}{\\partial W}$ (the gradients of the hidden states are accumulated through time by multiplying the sequence)\n",
    "$$\\frac{\\partial L}{\\partial W} = \\sum^{t}_{i=0} \\frac{\\partial L}{\\partial \\hat{y}^{(t-i)}} \\frac{\\partial \\hat{y}^{(t-i)}}{\\partial h^{(t-i)}} \\left( \\prod^{t}_{j=t-i+1} \\frac{\\partial h^{(t-j+1)}}{\\partial h^{(t-j)}} \\right) \\frac{\\partial h^{(t-i-1)}}{\\partial W}$$\n",
    "\n",
    "* Gradient for the hidden-to-output weight matrix $V$: $\\frac{\\partial L}{\\partial V}$ (only the output $\\hat{y}^{(t)}$ and the weights $V$ must be considered here)\n",
    "$$\\frac{\\partial L}{\\partial V} = \\sum^{t}_{i=0} \\frac{\\partial L}{\\partial \\hat{y}^{(t-i)}} \\frac{\\partial \\hat{y}^{(t-i)}}{\\partial V}$$\n",
    "    \n",
    "* Gradient for the hidden layer bias $b$: $\\frac{\\partial L}{\\partial b}$\n",
    "$$\\frac{\\partial L}{\\partial b} = \\sum^{t}_{i=0} \\frac{\\partial L}{\\partial \\hat{y}^{(t-i)}} \\frac{\\partial \\hat{y}^{(t-i)}}{\\partial h^{(t-i)}} \\frac{\\partial h^{(t-i)}}{\\partial b}$$\n",
    "\n",
    "* Gradient for the output layer bias $c$: $\\frac{\\partial L}{\\partial c}$\n",
    "$$\\frac{\\partial L}{\\partial c} = \\sum^{t}_{i=0} \\frac{\\partial L}{\\partial \\hat{y}^{(t-i)}} \\frac{\\partial \\hat{y}^{(t-i)}}{\\partial c}$$\n",
    "\n",
    "Afterwards, the weights and biases can be updated according to the gradient descent - the process is the same for all of them:<a name=\"footnote_ref-12\"></a>[<sup>12</sup>](#footnote-12)\n",
    "$$W \\leftarrow W - \\alpha \\frac{\\partial L}{\\partial W}$$\n",
    "where $\\alpha$ is the **learning rate**.\n",
    "\n",
    "However, BPTT is a computationally expensive operation as each state computed in the forward pass must be stored until it is reused in the backward propagation. Furthermore, this operation cannot be parallelized due to the sequential nature of the forward pass.<a name=\"footnote_ref-14\"></a>[<sup>14</sup>](#footnote-14) Furthermore, RNNs are prone to two specific problems: **exploding and vanishing gradients**. **Exploding gradients** occur when the derivative values are high, leading to a strongly increasing gradient and consequently to oscilliating weights that are a sign of an unstable network behavior. If the gradient value grows extremely large, it can cause an overflow (i.e., *NaN*). Conversely, **vanishing gradients** occur when the derivative values are small. Due to the application of the chain rule, the gradient becomes increasingly small during the BPTT process, causing the gradient to vanish. In this case, training of the network takes a prohibitve amount of time or might not be possible at all. In general, the temporal evolution of the backpropagated error depends exponentially on the size of the weights.<a name=\"footnote_ref-15\"></a>[<sup>15</sup>](#footnote-15) Overall, exploding and vanishing gradients lead to difficulties for the RNN to preserve and utilize information over many timesteps (also known as the **problem of long-term dependencies**, e.g., if context from a previous time step is required for predicting the current time step).\n",
    "\n",
    "Various methods were proposed to overcome the exploding and vanishing gradient problem:\n",
    "* **Batch normalization**, i.e., re-centering and re-scaling the inputs.\n",
    "* Usage of **faster hardware** - especially the increase of computational power since the 1990s, e.g., in the form of increasingly faster GPUs - was able to somewhat mitigate the problem of vanishing gradients, albeit obviously not solving it.\n",
    "* Usage of **rectifiers** (e.g., ReLU) as activation functions can mitigate vanishing gradients, as they only saturate in one direction.\n",
    "* **Gradient clipping** is a method to counteract exploding gradients. If a gradient exceeds a certain threshold value, it is scaled to a smaller value.\n",
    "* **Weight initialization** can counteract vanishing gradients if is not done randomly. Different methods have been proposed to achieve this.\n",
    "* Over time, **modified RNN architectures** have been proposed. **Long short-term memory (LSTM)** specifically aims to deal with the vanishing gradient problem."
   ]
  },
  {
   "cell_type": "markdown",
   "id": "b322b758-e9e0-4776-864e-e52a75551e5b",
   "metadata": {
    "tags": []
   },
   "source": [
    "## Long Short-Term Memory (LSTM) <a id=\"lstm\"></a>\n",
    "\n",
    "**Long short-term memory** is a RNN architecture proposed in 1997 that specifically aims at solving the vanishing gradient problem. In contrast to RNNs, the ordinary recurrent nodes are replaced with **memory cells** that contain a **cell state** (also known as **internal state**). The LSTM is able to add or remove information to and from the cell state in a procedure that is regulated by strucutres called **gates**. The gates are multiplicative entities that determine the changes to the cell state, i.e., they **selectively** let information through. An LSTM cell consists of four components, each of which forms an individual network layer in the network topology, each with its own weights and bias:\n",
    "\n",
    "* The aforementioned **cell state** $C$, the model's \"long-term memory\".\n",
    "* A **forget gate** $F$ that determines whether to keep the current value of the memory.\n",
    "* An **input gate** $I$ that determines how much of the input node's current value should be added to the current cell state.\n",
    "* an **output gate** $O$ that determines whether the memory cell should influence the output at the current time step.\n",
    "\n",
    "As with \"regular\" RNNs, the input to the memory cell consists of the current input $x^{(t)}$ and the hidden state of the previous time step $h^{(t-1)}$. The cell state is the LSTM's \"long-term memory\" in the sense that it encodes relevant information of the inputs from all previous time steps. It therefore differs from the hidden state, which only encodes information from the previous time step. The LSTM cell evaluates wheter information is \"relevant\" via its three gates.\n",
    "\n",
    "The values of the three gates $F$, $I$, and $O$ are calculated by three fully-connected layers with a sigmoid activation function ($\\sigma$). The sigmoid function returns values in the range of $(0, 1)$ that determine how much information should be kept of the information that passes through the gate.<a name=\"footnote_ref-16\"></a>[<sup>16</sup>](#footnote-16)<sup>, </sup><a name=\"footnote_ref-17\"></a>[<sup>17</sup>](#footnote-17)\n",
    "\n",
    "<img src=\"./img/LSTM.png\" style=\"margin:auto\"/>"
   ]
  },
  {
   "cell_type": "markdown",
   "id": "198af2fa-e89d-4f05-be85-72bb524457fb",
   "metadata": {},
   "source": [
    "**Forward propagation** for LSTMs is similar to \"regular\" RNNs. Basically, all gate calculations are \"standard\" activation computations, i.e., multiply the input $x^{(T)}$ by its weights, multiply the previous hidden state $h^{(t-1)}$ by its weights, add both together, add the bias, and pass the result throught an activation function.<a name=\"footnote_ref-16\"></a>[<sup>16</sup>](#footnote-16)<sup>, </sup><a name=\"footnote_ref-17\"></a>[<sup>17</sup>](#footnote-17)<sup>, </sup><a name=\"footnote_ref-18\"></a>[<sup>18</sup>](#footnote-18)\n",
    "\n",
    "1. The first step is to **determine which of the cell state's information should be \"forgotten\"** by the forget gate. The forget gate uses a sigmoid activation function that returns a value between 0 and 1 for each element in the cell state $C^{(t-1)}$, where 0 means to completely \"forget\" the information and 1 stands for keeping it entirely:\n",
    "$$F^{(t)} = \\sigma (W_{hF} h^{(t-1)} + W_{xF} x^{(t)} + b_{F})$$\n",
    "\n",
    "2. **New information is stored in the cell state**. This step consists of two parts:\n",
    "    1. First, the input gate decides which values of the cell state should be updated by passing the weighted sum of the inputs through a sigmoid activation function:\n",
    "    $$I^{(t)} = \\sigma (W_{hI} h^{(t-1)} + W_{xI} x^{(t)} + b_{I})$$\n",
    "\n",
    "    2. A tanh layer creates a vector of new candidate values $\\tilde{C}^{(t)}$ to add to the cell state:\n",
    "    $$\\tilde{C}^{t} = \\text{tanh}(W_{hC} h^{(t-1)} + W_{xC} x^{(t)} + b_{C})$$\n",
    "\n",
    "3. The **old cell state $C^{(t-1)}$ is updated**: \n",
    "    1. First, the previous cell state is multiplied with the values from the forget gate to \"forget\" irrelevant information.\n",
    "    2. Then, the outputs from the input gate $I^{(t)}$ and the candidate values $\\tilde{C}^{(t)}$ are multiplied and the result is added to the cell state:\n",
    "    $$C^{(t)} = F^{(t)} C^{(t-1)} + I^{(t)} \\tilde{C}^{(t)}$$\n",
    "\n",
    "4. Finally, the **output**, a filtered version of the cell state, **is calculated** in the output gate:\n",
    "    1. A sigmoid function decides which parts of the cell states are going to be part of the output:\n",
    "    $$O^{(t)} = \\sigma (W_{hO} h^{(t-1)} + W_{xO} x^{(t)} + b_{O})$$\n",
    "    \n",
    "    2. The updated cell state is passed through a tanh function (which yields values beteen -1 and 1) and is multiplied with the output $O^{(t)}$:\n",
    "    $$h^{(t)} = O^{(t)} \\text{tanh}(C^{(t)})$$\n",
    "\n",
    "This forward propagation is performed for each time step."
   ]
  },
  {
   "cell_type": "markdown",
   "id": "b4f7b7ee-080a-4ad3-bac3-0e93ae0bdc79",
   "metadata": {
    "tags": []
   },
   "source": [
    "<img src=\"./img/LSTM_sequence.png\" style=\"margin:auto\"/>"
   ]
  },
  {
   "cell_type": "markdown",
   "id": "6f30c334-5674-4c1f-ab8c-0147b8862bb6",
   "metadata": {},
   "source": [
    "## RNN Example with *Keras/TensorFlow* <a id=\"rnn_with_keras_tensorflow\"></a>\n",
    "\n",
    "The following example<a name=\"footnote_ref-19\"></a>[<sup>19</sup>](#footnote-19) shows how to train an LSTM for text generation. In this example, the LSTM ist trained on J. W. von Goethe's *Faust I*. The trained RNN should generate some text in the style of Goethe (i.e., a sequence of 50 words) based on a random input text (i.e., the *seed text*). The text is available from various sources, such as [Project Gutenberg](https://www.gutenberg.org/cache/epub/63203/pg63203.txt) or [Wikisource](https://de.wikisource.org/wiki/Faust_-_Der_Trag%C3%B6die_erster_Teil).\n",
    "\n",
    "The following packages are used to create and train the LSTM RNN:"
   ]
  },
  {
   "cell_type": "code",
   "execution_count": 1,
   "id": "3d891e0b-61ff-4dc8-9e7b-8eae0c9f47fa",
   "metadata": {
    "tags": []
   },
   "outputs": [],
   "source": [
    "%%capture --no-display\n",
    "\n",
    "import tensorflow as tf\n",
    "import numpy as np\n",
    "import pandas as pd\n",
    "import string\n",
    "import json\n",
    "import random\n",
    "import matplotlib.pyplot as plt"
   ]
  },
  {
   "cell_type": "markdown",
   "id": "3042896c-e29c-4515-818c-e6cda4b0ef9e",
   "metadata": {},
   "source": [
    "The starting point for training a RNN to perform NLP-related tasks is a **corpus**, a text or a number of texts which forms the basis for the model's training. However, the corpus itself cannot be used for training in its text form, which is why some specific **data cleaning and pre-processing** tasks are necessary<a name=\"footnote_ref-20\"></a>[<sup>20</sup>](#footnote-20)<sup>,</sup> <a name=\"footnote_ref-21\"></a>[<sup>21</sup>](#footnote-21)<sup>,</sup> <a name=\"footnote_ref-22\"></a>[<sup>22</sup>](#footnote-22) - the following are performed in this notebook:\n",
    "\n",
    "* **Text cleaning**, i.e., the removal of certain parts of the text that should not be used for training.\n",
    "* **Tokenization** is the process of splitting the text into smaller parts. The size of the tokens can be chosen depending on the use case, e.g., words, syllables, or letters. Tokenization also includes the removal of all punctuation signs, numbers, URLs, etc.\n",
    "* **Normalization** of the tokens, e.g., by converting them all to lowercase.\n",
    "* Building a **vocabulary**: the vocabulary is the set of individual words that appear in the corpus.\n",
    "\n",
    "Other pre-processing tasks might include:\n",
    "\n",
    "* **Stemming and lemmatization**: stemming refers to the process of reducing inflected words to their word stem (e.g., reducing the words *fishing*, *fished*, and *fisher* to the stem *fish*).<a name=\"footnote_ref-23\"></a>[<sup>23</sup>](#footnote-23) Lemmatization is the process of grouping inflected words under their lemma (i.e., dictionary form), e.g., *walk*, *walked*, *walks* or *walking* are grouped under the base form *walk*.<a name=\"footnote_ref-24\"></a>[<sup>24</sup>](#footnote-24)\n",
    "* **Stopword removal**: stopwords are the most common words in a language that are deemed insignificant for the meaning of the text (e.g., *the*, *is*, *and*, *for*). Removing them from the vocabulary might result in a smaller data set and therefore enhanced training time."
   ]
  },
  {
   "cell_type": "markdown",
   "id": "68821e81-61a3-45e6-9952-f042621e31cc",
   "metadata": {},
   "source": [
    "### Data Preparation: Text Cleaning, Tokenization and Normalization <a id=\"data_preparation_1\"></a>\n",
    "\n",
    "First, we open the file and inspect the first and last 100 characters to see what the text looks like."
   ]
  },
  {
   "cell_type": "code",
   "execution_count": 2,
   "id": "0f08359c-942f-4acf-8bbc-ced010b1ba77",
   "metadata": {
    "tags": []
   },
   "outputs": [
    {
     "name": "stdout",
     "output_type": "stream",
     "text": [
      "Faust:\n",
      "Der Tragödie erster Teil\n",
      "\n",
      "by Johann Wolfgang von Goethe\n",
      "\n",
      "\n",
      "Contents\n",
      "\n",
      " Zueignung\n",
      " Vorspiel auf \n",
      "--------------------------------------------------\n",
      "u Faust).\n",
      "Her zu mir!\n",
      "(Verschwindet mit Faust.)\n",
      "\n",
      "STIMME (von innen, verhallend).\n",
      "Heinrich! Heinrich!\n"
     ]
    }
   ],
   "source": [
    "with open(\"./data/faust.txt\", \"r\", encoding = \"utf-8\") as file:\n",
    "    text = file.read()\n",
    "    \n",
    "print(text[:100])\n",
    "print(50 * \"-\")\n",
    "print(text[len(text) - 100:len(text)])"
   ]
  },
  {
   "cell_type": "markdown",
   "id": "9f60a994-dc95-4233-9107-d7626f15ec4c",
   "metadata": {},
   "source": [
    "The text contains some **introductory remarks** and a **table of contents** which we want to get rid of. The text starts with the first chapter heading \"Zueignung\", so we will take this word as the starting point. Since the chapter heading also appears in the table of contents, we are looking for the second occurrence of the word. The `find()` method returns the index of the first occurence of the specified string. It takes optional start and end parameters, so if we set the start to the first occurence of the word + 1, we can find the second occurence. The end of the text does not need any modification."
   ]
  },
  {
   "cell_type": "code",
   "execution_count": 3,
   "id": "1bee12f3-9ce4-4811-8e59-287c9fb88783",
   "metadata": {
    "tags": []
   },
   "outputs": [
    {
     "name": "stdout",
     "output_type": "stream",
     "text": [
      "Zueignung\n",
      "\n",
      "\n",
      "Ihr naht euch wieder, schwankende Gestalten,\n",
      "Die früh sich einst dem trüben Blick gezeig\n"
     ]
    }
   ],
   "source": [
    "# Find the index of the second occurence of the \"Zueignung\" chapter heading\n",
    "text_start = text.find(\"Zueignung\", text.find(\"Zueignung\") + 1)\n",
    "# Reassign the text without table of contents\n",
    "text = text[text_start:]\n",
    "# Test - print the first 100 characters\n",
    "print(text[:100])"
   ]
  },
  {
   "cell_type": "markdown",
   "id": "e508578b-81c0-49c0-93c5-862fbbff6b7d",
   "metadata": {},
   "source": [
    "Now, we want to **tokenize** the text. This means that we must **strip the text of any punctuation marks**, **split the text at each whitespace** into indiviual tokens, and normalize the tokens to **lowercase**. Python's `string` module contains various constants (e.g., `punctuation`), which could be used to remove the punctuation marks in the text. However, the text contains some punctuation marks that are not included in `punctuation`, which requires a custom solution. First, we identify all individual letters and punctuation marks from the text."
   ]
  },
  {
   "cell_type": "code",
   "execution_count": 4,
   "id": "9e0dc3c7-fc1b-4113-b9b7-c17258f1cbe9",
   "metadata": {},
   "outputs": [
    {
     "name": "stdout",
     "output_type": "stream",
     "text": [
      "['\\n', ' ', '!', '(', ')', ',', '-', '.', ':', ';', '?', 'A', 'B', 'C', 'D', 'E', 'F', 'G', 'H', 'I', 'J', 'K', 'L', 'M', 'N', 'O', 'P', 'Q', 'R', 'S', 'T', 'U', 'V', 'W', 'X', 'Y', 'Z', 'a', 'b', 'c', 'd', 'e', 'f', 'g', 'h', 'i', 'j', 'k', 'l', 'm', 'n', 'o', 'p', 'q', 'r', 's', 't', 'u', 'v', 'w', 'x', 'y', 'z', 'Ä', 'Ö', 'Ü', 'ß', 'ä', 'ö', 'ü', '—', '’', '“', '”']\n"
     ]
    }
   ],
   "source": [
    "all_text_characters = []\n",
    "for character in text:\n",
    "    if character not in all_text_characters:\n",
    "        all_text_characters.append(character)\n",
    "\n",
    "print(sorted(all_text_characters))"
   ]
  },
  {
   "cell_type": "markdown",
   "id": "8ed1a3da-8bf6-4426-9abe-caa8b02be1b9",
   "metadata": {},
   "source": [
    "`printable` is a concatenation of all letters, digits, and punctuation marks constants from the `string` module:"
   ]
  },
  {
   "cell_type": "code",
   "execution_count": 5,
   "id": "bd391611-61bb-440e-8c23-6743567b60b0",
   "metadata": {
    "tags": []
   },
   "outputs": [
    {
     "name": "stdout",
     "output_type": "stream",
     "text": [
      "0123456789abcdefghijklmnopqrstuvwxyzABCDEFGHIJKLMNOPQRSTUVWXYZ!\"#$%&'()*+,-./:;<=>?@[\\]^_`{|}~ \t\n",
      "\u000b",
      "\f",
      "\n"
     ]
    }
   ],
   "source": [
    "# import string\n",
    "print(string.printable)"
   ]
  },
  {
   "cell_type": "markdown",
   "id": "dadab822-2314-407a-ad83-ffe13532cd96",
   "metadata": {},
   "source": [
    "We can use `printable` to find additional punctuation marks in the text. The comparison also reveals that the text contains umlauts - unsurprisingly, as the text is German -, which obviously must remain in the text. To get rid of the punctuation marks, we append the additional ones to a list containg the `punctuation` characters. We use this list to replace every instance of the punctuation marks in the text with an empty string. We then split the entire text into individual tokens."
   ]
  },
  {
   "cell_type": "code",
   "execution_count": 6,
   "id": "3197ca04-501e-449e-a500-f5fe56ba125b",
   "metadata": {
    "tags": []
   },
   "outputs": [
    {
     "name": "stdout",
     "output_type": "stream",
     "text": [
      "['ü', 'ä', 'ö', 'Ä', 'ß', '’', '—', '“', '”', 'Ü', 'Ö']\n"
     ]
    }
   ],
   "source": [
    "additional_punctuation = [i for i in all_text_characters if i not in string.printable]\n",
    "print(additional_punctuation)"
   ]
  },
  {
   "cell_type": "code",
   "execution_count": 7,
   "id": "2d51b248-7c5e-45a2-8c41-e11cc6962a1f",
   "metadata": {
    "tags": []
   },
   "outputs": [
    {
     "name": "stdout",
     "output_type": "stream",
     "text": [
      "List of all punctuation marks: ['!', '\"', '#', '$', '%', '&', \"'\", '(', ')', '*', '+', ',', '-', '.', '/', ':', ';', '<', '=', '>', '?', '@', '[', '\\\\', ']', '^', '_', '`', '{', '|', '}', '~', '’', '—', '“', '”']\n",
      "\n",
      "Token sample: ['zueignung', 'ihr', 'naht', 'euch', 'wieder', 'schwankende', 'gestalten', 'die', 'früh', 'sich']\n",
      "\n",
      "Total number of tokens: 30591\n",
      "Number of unique tokens: 6320\n"
     ]
    }
   ],
   "source": [
    "punctuation = [i for i in string.punctuation] + ['’', '—', '“', '”']\n",
    "print(f\"List of all punctuation marks: {punctuation}\\n\")\n",
    "\n",
    "# Remove all punctuation marks\n",
    "for p in punctuation:\n",
    "    if p in text:\n",
    "        text = text.replace(p, \"\")\n",
    "\n",
    "# Split text into tokens\n",
    "tokens = text.split()\n",
    "# Normalize tokens by converting them to lowercase\n",
    "tokens = [token.lower() for token in tokens]\n",
    "\n",
    "# Print the first 10 tokens and some statistics\n",
    "print(f\"Token sample: {tokens[:10]}\\n\")\n",
    "print(f\"Total number of tokens: {len(tokens)}\")\n",
    "print(f\"Number of unique tokens: {len(set(tokens))}\")"
   ]
  },
  {
   "cell_type": "markdown",
   "id": "c10b7adc-1547-43ec-b809-0ca510773e42",
   "metadata": {},
   "source": [
    "The previous analysis reveals that the **vocabulary** consists of 6320 words."
   ]
  },
  {
   "cell_type": "markdown",
   "id": "90f30980-1832-40c3-b525-ceda9c6b1d96",
   "metadata": {
    "tags": []
   },
   "source": [
    "### Data Preparation: Creation of Text Sequences <a id=\"data_preparation_2\"></a>\n",
    "\n",
    "The next step is the creation of **text sequences** of 50 input words and 1 output word. To generate the sequences, we iterate over the text and save 51 words in a list. With each iteration, we move one word further to generate the sequences. The principle is illustrated in the following visualization:\n",
    "\n",
    "```\n",
    "Sequence 1: word1 word2 word3 word4 word5\n",
    "Sequence 2:       word2 word3 word4 word5 word6\n",
    "Sequence 3:             word3 word4 word5 word6 word7\n",
    "                              etc.\n",
    "```"
   ]
  },
  {
   "cell_type": "code",
   "execution_count": 8,
   "id": "f99f7900-4670-4a6d-8449-a635a6d4cd3f",
   "metadata": {
    "tags": []
   },
   "outputs": [
    {
     "name": "stdout",
     "output_type": "stream",
     "text": [
      "First sequence: \n",
      "zueignung ihr naht euch wieder schwankende gestalten die früh sich einst dem trüben blick gezeigt versuch ich wohl euch diesmal festzuhalten fühl ich mein herz noch jenem wahn geneigt ihr drängt euch zu nun gut so mögt ihr walten wie ihr aus dunst und nebel um mich steigt mein busen fühlt\n",
      "--------------------------------------------------\n",
      "Last sequence: \n",
      "dich mit ihr im stich margarete dein bin ich vater rette mich ihr engel ihr heiligen scharen lagert euch umher mich zu bewahren heinrich mir grauts vor dir mephistopheles sie ist gerichtet stimme von oben ist gerettet mephistopheles zu faust her zu mir verschwindet mit faust stimme von innen verhallend heinrich\n",
      "\n",
      "Total number of sequences: 30540\n"
     ]
    }
   ],
   "source": [
    "# Define default sequence length\n",
    "length = 50 + 1 # To illustrate 50 input words + 1 output\n",
    "# Create empty list to store all sequences\n",
    "sequences = []\n",
    "\n",
    "# Iterate over the text to create the sequences\n",
    "for i in range(length, len(tokens)):\n",
    "    # Select sequence of tokens\n",
    "    sequence = tokens[i - length:i]\n",
    "    # Join tokens into a sequence\n",
    "    line = \" \".join(sequence)\n",
    "    # Append sequence to sequence list\n",
    "    sequences.append(line)\n",
    "    \n",
    "print(f\"First sequence: \\n{sequences[0]}\")\n",
    "print(50 * \"-\")\n",
    "print(f\"Last sequence: \\n{sequences[-1]}\")\n",
    "print(f\"\\nTotal number of sequences: {len(sequences)}\")"
   ]
  },
  {
   "cell_type": "markdown",
   "id": "660c3be3-0ab9-47fa-8e1d-a95afd23ba77",
   "metadata": {},
   "source": [
    "The sequences are stored in a list of strings, with each string representing one sequence. The statistic shows that we have a total of 30,540 sequences. Finally, the sequences are **stored in a file** with each line containing one sequence to make the text corpus easier to use after data preparation."
   ]
  },
  {
   "cell_type": "code",
   "execution_count": 9,
   "id": "0e6193ff-b40c-4ed8-8057-af4db819180e",
   "metadata": {},
   "outputs": [],
   "source": [
    "with open(\"./data/faust_sequences.txt\", \"w\", encoding = \"utf-8\") as file:\n",
    "    file.write(\"\\n\".join(sequences))"
   ]
  },
  {
   "cell_type": "markdown",
   "id": "fe45c593-1258-45e9-80b0-a874532094ab",
   "metadata": {},
   "source": [
    "### Data Preparation: Vectorization <a id=\"data_preparation_3\"></a>\n",
    "\n",
    "The final data preparation step is the **vectorization** of the tokens. Each sequence is transformed into a list of token indices, where each integer represents one word from the vocabulary. Vectorization is necessary create a numeric representation of the raw text that is suitable for machine learning. \n",
    "\n",
    "`TextVectorization` is a *Keras* layer that handles the vectorization of natural language inputs, i.e., it creates a mapping between the tokens and integer indices. This means that each token is assigned an integer index value based on the token's frequency in the vocabulary with the most common tokens being assigned the lowest integers. This is achieved by setting the `output_mode` argument to `int` when creating the `TextVectorization` layer.<a name=\"footnote_ref-25\"></a>[<sup>25</sup>](#footnote-25) It is also capable of text normalization (via the `standardize` argument), but we have already done this in the previous step.\n",
    "\n",
    "`TextVectorization` is one of four stateful *Keras* layers, meaning that it is **non-trainable** and that its state must be set **before training**. This internal state mainly consists of the vocabulary itself, the token frequencies, and various configuration parameters (e.g., maximum vocabulary size, output mode, etc.). The state is set by **adapting** the layer on the data via the `adapt()` method.<a name=\"footnote_ref-26\"></a>[<sup>26</sup>](#footnote-26) By calling `adapt()`, the layer builds a **vocabulary** of all string tokens in the data set and performs the index mapping based on each token's frequency in the vocabulary. It is also possible to set a specific vocabulary size by specifying the `TextVectorization` layer's `max_tokens` argument. Typically, the index 0 is reserved for padding and index 1 is reserved for out-of-vocabulary tokens if a maximum vocabulary size is specified."
   ]
  },
  {
   "cell_type": "code",
   "execution_count": 10,
   "id": "aa929024-ffbf-4412-b90b-f2485f6f75b4",
   "metadata": {
    "tags": []
   },
   "outputs": [],
   "source": [
    "# Optional: load the previously saved sequences\n",
    "#\n",
    "# with open(\"./data/faust_sequences.txt\", \"r\", encoding = \"utf-8\") as file:\n",
    "#     text = file.read()\n",
    "# \n",
    "# sequences = text.split(\"\\n\")\n",
    "# print(sequences[0])"
   ]
  },
  {
   "cell_type": "code",
   "execution_count": 11,
   "id": "d15826e0-ab15-40ce-8342-28f454c1464d",
   "metadata": {
    "tags": []
   },
   "outputs": [
    {
     "name": "stdout",
     "output_type": "stream",
     "text": [
      "tf.Tensor(\n",
      "[6321   22 2312   33  105 2311 1448    4  573   20  836   28 2310  310\n",
      " 6318 2308    3   57   33  488 2307  308    3   42  122   49  487  688\n",
      " 6314   22  278   33    9   47   92   15 6312   22 6311   26   22   53\n",
      " 2305    2  571   64   23  420   42  179  467], shape=(51,), dtype=int64)\n",
      "Length of the sequence: 51\n"
     ]
    }
   ],
   "source": [
    "# Define the text vectorization layer\n",
    "vectorizer = tf.keras.layers.TextVectorization(output_mode = \"int\")\n",
    "\n",
    "# Build the vocabulary (i.e., adapt the text vectorization layer on the data)\n",
    "vectorizer.adapt(sequences)\n",
    "\n",
    "# Create the vectorized sequences\n",
    "vectorized_sequences = vectorizer(sequences)\n",
    "\n",
    "# Check the vectorized sequences\n",
    "print(vectorized_sequences[0])\n",
    "print(f\"Length of the sequence: {len(vectorized_sequences[0])}\")"
   ]
  },
  {
   "cell_type": "markdown",
   "id": "5d5b4f4a-4c2f-4bc4-82c0-4982ba3d9752",
   "metadata": {},
   "source": [
    "Next, we split the vectorized sequences into inputs (`X`) and outputs (`y`). The inputs are sequences of the first 50 words of the original sequences, and the output is the the 51st word. Splitting the squences results in two tensors: `X` with shape `(30540, 50)`, and `y` with shape `(30540,)`."
   ]
  },
  {
   "cell_type": "code",
   "execution_count": 12,
   "id": "7ff40a75-56ed-46ac-99b1-0926749e74d8",
   "metadata": {
    "tags": []
   },
   "outputs": [
    {
     "name": "stdout",
     "output_type": "stream",
     "text": [
      "Input X:\n",
      "[6321   22 2312   33  105 2311 1448    4  573   20  836   28 2310  310\n",
      " 6318 2308    3   57   33  488 2307  308    3   42  122   49  487  688\n",
      " 6314   22  278   33    9   47   92   15 6312   22 6311   26   22   53\n",
      " 2305    2  571   64   23  420   42  179]\n",
      "\n",
      "Length of the input X: 50\n",
      "\n",
      "Output y: 467\n"
     ]
    }
   ],
   "source": [
    "X, y = vectorized_sequences[:, : -1], vectorized_sequences[:, -1]\n",
    "\n",
    "# Check input and output for the first sequence\n",
    "print(f\"Input X:\\n{X[0]}\\n\\n\"\n",
    "      f\"Length of the input X: {len(X[0])}\\n\\n\"\n",
    "      f\"Output y: {y[0]}\")"
   ]
  },
  {
   "cell_type": "markdown",
   "id": "fed8cd68-4b7c-461f-bfe0-658c0ca89e27",
   "metadata": {},
   "source": [
    "Now, the outputs `y` must be **one-hot encoded** and we must define some of the model's parameters, namely the vocabulary size and the length of the input sequences. Since the previously created `vectorizer` is a *keras* `TextVectorization` object, we can use its `vocabulary_size()` method to determine the vocabulary size. The input sequence length is obtained dynamically from the second dimension of the input tensor's shape - this way, it must not be redefined in case the input sequence length changes. \n",
    "\n",
    "The one-hot encoding of `y` is done with *keras*' `to_categorical()` function. In this example, this will result in a tensor of shape `(30540, 6322)`. This means that this tensor contains 30540 encodings (one for each sequence) of length 3622 (i.e., the entire size of the vocabulary). The encoded sequences consists only of zeros with the 51st word of the preceding input sequence being encoded as 1 at it's position in the vocabulary.\n",
    "\n",
    "If we take the sequence \"*this is a test*\" as an example, the vectorized sequence would be something like `[2 4 5 3]`. If the input `X` is \"*this is a*\" and the output `y` is \"*test*\", the output would be one-hot encoded according to its position in the vocabulary as follows: `[0, 1, 0, 0]`."
   ]
  },
  {
   "cell_type": "code",
   "execution_count": 13,
   "id": "d89b479d-6214-4878-9b51-6e840655c684",
   "metadata": {},
   "outputs": [
    {
     "name": "stdout",
     "output_type": "stream",
     "text": [
      "Vocabulary size: 6322\n",
      "Input sequence length: 50\n",
      "Example of the first one-hot encoding: [0. 0. 0. ... 0. 0. 0.]\n",
      "Shape of the one-hot encoded tensor y: (30540, 6322)\n"
     ]
    }
   ],
   "source": [
    "# Specify the vocabulary size\n",
    "vocab_size = vectorizer.vocabulary_size()\n",
    "# Specify the length of the input sequence X\n",
    "seq_length = X.shape[1]\n",
    "\n",
    "print(f\"Vocabulary size: {vocab_size}\")\n",
    "print(f\"Input sequence length: {seq_length}\")\n",
    "\n",
    "# One-hot encoding of the outputs y\n",
    "y = tf.keras.utils.to_categorical(y, num_classes = vocab_size)\n",
    "# Check the one-hot encoded outputs\n",
    "print(f\"Example of the first one-hot encoding: {y[0]}\")\n",
    "print(f\"Shape of the one-hot encoded tensor y: {y.shape}\")"
   ]
  },
  {
   "cell_type": "markdown",
   "id": "19bc3888-a86e-495f-b3e8-7c0f0d2a7fcf",
   "metadata": {},
   "source": [
    "### Model Creation, Compiling, and Fitting <a id=\"model_creation\"></a>\n",
    "\n",
    "Finally, we can create, compile, and fit the model. First, we create a sequential model object by using *Keras*' `Sequential` class and add the following layers:\n",
    "\n",
    "1. An **Embedding** layer that takes the vectorized tokens and maps the integer indices to a dense vector of fixed length whose size is specified with the `output_dim` argument. The dense vectors are initialized randomly and learned during training. They contain information about a word's meaning and its relationship to other words as similar words have similar dense vector representations. Since they are lower-dimensional than one-hot vectors (as specified by the `output_dim` argument), they are more leightweight and take up less space, and models can make better predictions.\n",
    "2. An **LSTM** layer with 100 units to process the sequence data and capture long-term dependencies between the tokens. By setting `return_sequences` to `True`, the layer returns the full sequence instead of only returning the last output. This is required to return a three-dimensional input for the next LSTM layer.<a name=\"footnote_ref-27\"></a>[<sup>27</sup>](#footnote-27) The dropout helps to regularize the model and prevent overfitting by randomly omitting 20% of the recurrent connections within the LSTM layer for each timestep during the training process.\n",
    "3. A second **LSTM** layer with 100 units to process the sequences from the first LSTM layer. Since return_sequences is set to `False` by default, this layer returns only the last hidden state (i.e., a single output).\n",
    "4. A **dropout** layer that randomly drops 20% of the units (i.e., the second LSTM layer's outputs) before passing the output to the next layer.\n",
    "5. A fully connected **dense layer** that applies a linear transformation based on its own weight matrix and passes its result through a ReLU activation function. This helps to fine-tune the LSTM's output, or, in other words, helps to interpret the features extracted from the sequence.\n",
    "6. A **dense** output layer which returns a probability distribution over all words in the vocabulary, i.e., each value represents the probability of a particular word to be the next token in the sequence. This is achieved by passing the output through the softmax activation function."
   ]
  },
  {
   "cell_type": "code",
   "execution_count": 14,
   "id": "ce583fe8-a4d3-47ef-a320-ae06fe8fcac2",
   "metadata": {
    "tags": []
   },
   "outputs": [
    {
     "name": "stdout",
     "output_type": "stream",
     "text": [
      "Model: \"sequential\"\n",
      "_________________________________________________________________\n",
      " Layer (type)                Output Shape              Param #   \n",
      "=================================================================\n",
      " embedding (Embedding)       (None, 50, 100)           632200    \n",
      "                                                                 \n",
      " lstm (LSTM)                 (None, 50, 100)           80400     \n",
      "                                                                 \n",
      " lstm_1 (LSTM)               (None, 100)               80400     \n",
      "                                                                 \n",
      " dropout (Dropout)           (None, 100)               0         \n",
      "                                                                 \n",
      " dense (Dense)               (None, 100)               10100     \n",
      "                                                                 \n",
      " dense_1 (Dense)             (None, 6322)              638522    \n",
      "                                                                 \n",
      "=================================================================\n",
      "Total params: 1441622 (5.50 MB)\n",
      "Trainable params: 1441622 (5.50 MB)\n",
      "Non-trainable params: 0 (0.00 Byte)\n",
      "_________________________________________________________________\n",
      "None\n"
     ]
    }
   ],
   "source": [
    "model = tf.keras.models.Sequential()\n",
    "model.add(tf.keras.layers.Embedding(input_dim = vocab_size, output_dim = 100, input_length = seq_length))\n",
    "model.add(tf.keras.layers.LSTM(units = 100, return_sequences = True, recurrent_dropout = 0.2))\n",
    "model.add(tf.keras.layers.LSTM(units = 100))\n",
    "model.add(tf.keras.layers.Dropout(rate = 0.2))\n",
    "model.add(tf.keras.layers.Dense(units = 100, activation = \"relu\"))\n",
    "model.add(tf.keras.layers.Dense(units = vocab_size, activation = \"softmax\"))\n",
    "\n",
    "print(model.summary())"
   ]
  },
  {
   "cell_type": "markdown",
   "id": "1240dc8b-e89f-4e3c-8066-56bdf8be89b9",
   "metadata": {},
   "source": [
    "The model is **compiled** (i.e., configured) with the `compile` method. It takes several arguments, of which the following will be used in this example:\n",
    "\n",
    "* `optimizer`: the algorithm/method used to adjust the weights after each batch or epoch. [Various algorithms](https://www.kaggle.com/code/residentmario/keras-optimizers/notebook) are available out of the box.\n",
    "* `loss`: the loss function to be used by the model.\n",
    "* `metrics`: a list of the metrics used to evalueate the model performance."
   ]
  },
  {
   "cell_type": "code",
   "execution_count": 15,
   "id": "fc06b376-42c0-4e1b-8e6b-69829a6f4bbc",
   "metadata": {
    "tags": []
   },
   "outputs": [],
   "source": [
    "model.compile(\n",
    "    loss = \"categorical_crossentropy\",\n",
    "    optimizer = \"adam\",\n",
    "    metrics = [\"accuracy\"])"
   ]
  },
  {
   "cell_type": "markdown",
   "id": "d9024a33-fd87-4a94-817a-1e5fede43d2e",
   "metadata": {
    "tags": []
   },
   "source": [
    "Finally, the model is **fitted** (i.e., trained) with the `fit` method. Besides the input `X` and the output `y`, this method takes two **hyperparameters** that have a significant effect on the training process and the quality of the model:<a name=\"footnote_ref-28\"></a>[<sup>28</sup>](#footnote-28)\n",
    "\n",
    "* During one **epoch**, the entire training data set is being passed through the training algorithm. Therefore, the number of epochs determine how often the algorithm works through the entire data set.\n",
    "* The **batch size** determines the number of examples the algorithm works through before it updates the model's internal parameters.\n",
    "\n",
    "These two hyperparameters have a profound effect on the learning process, training time, and model quality:<a name=\"footnote_ref-29\"></a>[<sup>29</sup>](#footnote-29)\n",
    "* When choosing **too few epochs**, the model won't be able to learn patterns in the data and it will underfit. Conversely, choosing **too many epochs** might lead to overfitting\n",
    "* When choosing a **smaller batch size**, the model performs more updates per epoch and the model tends to converge faster. However, the gradients might be noisier as the weights adjustment tends to be more \"extreme\". Small batch sizes also require less memory. When choosing a **larger batch size**, the model performs less updates per epoch, leading to more stable gradient updates and faster training times. However, this might lead to overfitting and it requires more memory.\n",
    "\n",
    "In the following block of code, the batch size is set to 128 and the number of epochs is set to one to keep the training time to a minimum. However, this reduced training results in a bad model. To get some comparability on the effect of changing batch sizes and epochs, multiple models have been trained on the same data with different hyperparameter combinations. These combinations have significant differences in their training times, and the quality of their predictions will be assessed below.\n",
    "\n",
    "| Model   | No. of epochs | Batch size | Approximate training time          |\n",
    "| ---     | ---           | ---        | ---                                |\n",
    "| Model 1 | 50            | 64         | ~ 63 seconds/epoch = 53 minutes    |\n",
    "| Model 2 | 50            | 128        | ~ 42 seconds/epoch = 35 minutes    |\n",
    "| Model 3 | 50            | 256        | ~ 26 seconds/epoch = 22 minutes    |\n",
    "| Model 4 | 100           | 64         | ~ 66 seconds/epoch = 1h 50 minutes |\n",
    "| Model 5 | 100           | 128        | ~ 42 seconds/epoch = 1h 10 minutes |\n",
    "| Model 6 | 100           | 256        | ~ 26 seconds/epoch = 37 minutes    |"
   ]
  },
  {
   "cell_type": "code",
   "execution_count": 16,
   "id": "6a7ec1b7-fdd4-4ad6-bd72-6ec4acb5df91",
   "metadata": {
    "tags": []
   },
   "outputs": [
    {
     "name": "stdout",
     "output_type": "stream",
     "text": [
      "239/239 [==============================] - 47s 175ms/step - loss: 7.3192 - accuracy: 0.0262\n"
     ]
    }
   ],
   "source": [
    "history = model.fit(X, y, batch_size = 128, epochs = 1)"
   ]
  },
  {
   "cell_type": "markdown",
   "id": "c773f022-3206-4151-8722-0bb6be966b90",
   "metadata": {},
   "source": [
    "The following block of code has been used to save the model and the training history (i.e., loss and accuracy after each epoch). "
   ]
  },
  {
   "cell_type": "code",
   "execution_count": 17,
   "id": "bd173555-6a01-49d0-869b-bceb019de798",
   "metadata": {
    "tags": []
   },
   "outputs": [],
   "source": [
    "# Specify path and file names\n",
    "path = \"./models/\"\n",
    "model_name = \"x.keras\"  # Enter file name for the model being saved\n",
    "history_name = \"x.json\" # Enter file name for the history being saved\n",
    "\n",
    "# Uncomment to save the model and training history\n",
    "# Save the model\n",
    "# model.save(f\"{path}{model_name}\")\n",
    "# \n",
    "# # Save the training history\n",
    "# with open(f\"{path}{history_name}\", \"w\") as file:\n",
    "#     json.dump(history.history, file)"
   ]
  },
  {
   "cell_type": "markdown",
   "id": "16da435d-dab7-4592-9e0a-0b6eb02e4e59",
   "metadata": {
    "tags": []
   },
   "source": [
    "### Token Generation and Model Comparisons <a id=\"token_generation\"></a>\n",
    "\n",
    "We can now check how the model works by **generating a token based on a random sequence** (*seed text*) from the corpus. Since each sequence consists of 51 tokens (words), we can use the first 50 words to predict the 51st. First we load the pre-trained models."
   ]
  },
  {
   "cell_type": "code",
   "execution_count": 18,
   "id": "2d42e9cb-db96-4736-9fbf-39ee705343ed",
   "metadata": {
    "tags": []
   },
   "outputs": [],
   "source": [
    "# Load the models\n",
    "path = \"./models/\"\n",
    "\n",
    "model_1_filename = \"model_1_50_epochs_batch_size_64.keras\"\n",
    "model_2_filename = \"model_2_50_epochs_batch_size_128.keras\"\n",
    "model_3_filename = \"model_3_50_epochs_batch_size_256.keras\"\n",
    "model_4_filename = \"model_4_100_epochs_batch_size_64.keras\"\n",
    "model_5_filename = \"model_5_100_epochs_batch_size_128.keras\"\n",
    "model_6_filename = \"model_6_100_epochs_batch_size_256.keras\"\n",
    "\n",
    "model_1 = tf.keras.models.load_model(f\"{path}{model_1_filename}\")\n",
    "model_2 = tf.keras.models.load_model(f\"{path}{model_2_filename}\")\n",
    "model_3 = tf.keras.models.load_model(f\"{path}{model_3_filename}\")\n",
    "model_4 = tf.keras.models.load_model(f\"{path}{model_4_filename}\")\n",
    "model_5 = tf.keras.models.load_model(f\"{path}{model_5_filename}\")\n",
    "model_6 = tf.keras.models.load_model(f\"{path}{model_6_filename}\")"
   ]
  },
  {
   "cell_type": "markdown",
   "id": "f9bc4832-4221-4653-bac2-00db3ca09a39",
   "metadata": {},
   "source": [
    "We then load the **vocabulary** from the previously created `vectorizer` object. It is a list of all vocabulary words sorted by frequency. It is required to transform the integer index returned by the prediction back into an actual word by selecting the vocabulary word at the predicted index position."
   ]
  },
  {
   "cell_type": "code",
   "execution_count": 19,
   "id": "4159716a-9047-440b-9ab0-b78bc9667f9e",
   "metadata": {
    "tags": []
   },
   "outputs": [
    {
     "name": "stdout",
     "output_type": "stream",
     "text": [
      "['', '[UNK]', 'und', 'ich', 'die', 'der', 'nicht', 'das', 'ein', 'zu', 'ist', 'du', 'in', 'sie', 'es', 'so', 'mephistopheles', 'den', 'mit', 'faust']\n"
     ]
    }
   ],
   "source": [
    "vocab = vectorizer.get_vocabulary()\n",
    "# Show a sample of the vocabulary\n",
    "print(vocab[:20])"
   ]
  },
  {
   "cell_type": "markdown",
   "id": "9b45c5fe-9d8f-4be2-adff-c2746d354fe1",
   "metadata": {
    "tags": []
   },
   "source": [
    "We can now check the model's predictions by generating a token based on a random sequence (*seed text*). This first requires a few steps to **prepare some test data**:\n",
    "\n",
    "1. Pick 15 random sequences from the `sequences` list of sequences (i.e., the seed texts).\n",
    "2. Vecotrize each seed text by using the previously created `vectorizer`. This results in a tensor of shape `(1, 51)`.\n",
    "3. Slice the seed text tensor to only include the first 50 indices, and store the resulting tensor `X_test` of shape `(1, 50)` in a list.\n",
    "4. Slice the seed text tensor again to obtain its 51st integer index. This results in a tensor of shape `(1, )`. Convert this tensor to a single integer and store it in a list. This is achieved by converting the the `y_test_int` tensor into a *numpy* array (`y_test_int.numpy()`), selecting the first (and only) element of the array, and converting it using the `int()` function.\n",
    "5. Convert the integer index to its corresponding vocabulary word and append it to a list. The `if predicted_index < len(vocab) else \"UNK\"` part is not really required here. If the vocabulary would have been capped at a certain size, it would return `UNK` (short for \"unknown\") if an index larger than the vocabulary size would be returned."
   ]
  },
  {
   "cell_type": "code",
   "execution_count": 20,
   "id": "f7a81237-8b5b-46ec-802f-c5e8c0dfec27",
   "metadata": {
    "tags": []
   },
   "outputs": [
    {
     "name": "stdout",
     "output_type": "stream",
     "text": [
      "Seed text: \n",
      "gewesen was grinsest du mir hohler schädel her als daß dein hirn wie meines einst verwirret den leichten tag gesucht und in der dämmrung schwer mit lust nach wahrheit jämmerlich geirret ihr instrumente freilich spottet mein mit rad und kämmen walz und bügel ich stand am tor ihr solltet schlüssel sein\n",
      "\n",
      "Vectorized seed text tensor, shape (1, 50): \n",
      "[[ 548   25 2002   11   21 4682 3482  202   41   39  136 1953   26 1843\n",
      "   836 2794   17  940  119 5017    2   12    5 2166  260   18  235   51\n",
      "   497 4545 5144   22 4597  469 1667   42   18 3828    2 4385 2703    2\n",
      "  5822    3  592   69  430   22 1155  898]]\n",
      "\n",
      "y_test integer index: 68\n",
      "y_test vocabulary word: sein\n"
     ]
    }
   ],
   "source": [
    "# Set seed for reproducable results when generating the seed texts\n",
    "random.seed(1)\n",
    "\n",
    "# Select 15 random seed texts\n",
    "seed_text_samples = random.sample(sequences, 15)\n",
    "\n",
    "# Lists to store the transformed test data\n",
    "vectorized_seed_texts = []\n",
    "ground_truth_indices = []\n",
    "ground_truth_tokens = []\n",
    "\n",
    "# Vectorize each sample and extract the ground truth token\n",
    "for sample in seed_text_samples:\n",
    "    # Vectorize the seed text\n",
    "    vectorized_seed_text = vectorizer([sample])\n",
    "    # Slice the vectorized seed text tensor and assign its first 50 integer indices to X_test\n",
    "    X_test = vectorized_seed_text[:, :-1]\n",
    "    vectorized_seed_texts.append(X_test)\n",
    "    \n",
    "    # Slice the vectorized seed text tensor and assign the 51st integer index to y_test_int\n",
    "    y_test_int = vectorized_seed_text[:, -1]\n",
    "    y_test_int = int(y_test_int.numpy()[0])\n",
    "    ground_truth_indices.append(y_test_int)\n",
    "    \n",
    "    # Convert the integer index to the actual token using the vocabulary\n",
    "    y_test = vocab[y_test_int] if y_test_int < len(vocab) else \"UNK\"\n",
    "    ground_truth_tokens.append(y_test)\n",
    "\n",
    "# Print the first example\n",
    "print(f\"Seed text: \\n{seed_text_samples[0]}\\n\")\n",
    "print(f\"Vectorized seed text tensor, shape {vectorized_seed_texts[0].shape}: \\n{vectorized_seed_texts[0]}\\n\")\n",
    "print(f\"y_test integer index: {ground_truth_indices[0]}\\ny_test vocabulary word: {ground_truth_tokens[0]}\")"
   ]
  },
  {
   "cell_type": "markdown",
   "id": "86dba535-8868-4b25-b6f6-a6a2ca9aaf41",
   "metadata": {},
   "source": [
    "Now we can **generate tokens based on the seed texts**. To get a glimpse on how the individual models perform, all 15 seed texts are fed into each model. Each model predicts an integer index based on the seed text which is converted into the corresponding word. These are the steps to obtain the integer indices:\n",
    "\n",
    "1. Use the *keras* `predict` method to generate output predictions for the input samples. This returns a tensor of shape `(1, 6322)` which contains the probabilities for each word to be the next in the sequence. The vocabulary size is 6320, the additional two indices are added for padding (0) and out-of-vocabulary tokens (1). The actual vocabulary words start at index 2.\n",
    "2. Call the *numpy* `argmax` function to find the token with the highest probability. It returns the position of the highest probability in the tensor, i.e., the integer index.\n",
    "3. Look up the corresponding word in the vocabulary.\n",
    "\n",
    "The results for each model are saved in a dictionary. The dictionary is then converted into a *pandas* dataframe to display the predictions against the ground truth."
   ]
  },
  {
   "cell_type": "code",
   "execution_count": 21,
   "id": "abae1ad6-1135-4fb6-ba8e-18699badfee4",
   "metadata": {
    "tags": []
   },
   "outputs": [
    {
     "data": {
      "text/html": [
       "<div>\n",
       "<style scoped>\n",
       "    .dataframe tbody tr th:only-of-type {\n",
       "        vertical-align: middle;\n",
       "    }\n",
       "\n",
       "    .dataframe tbody tr th {\n",
       "        vertical-align: top;\n",
       "    }\n",
       "\n",
       "    .dataframe thead th {\n",
       "        text-align: right;\n",
       "    }\n",
       "</style>\n",
       "<table border=\"1\" class=\"dataframe\">\n",
       "  <thead>\n",
       "    <tr style=\"text-align: right;\">\n",
       "      <th></th>\n",
       "      <th>Model 1</th>\n",
       "      <th>Model 2</th>\n",
       "      <th>Model 3</th>\n",
       "      <th>Model 4</th>\n",
       "      <th>Model 5</th>\n",
       "      <th>Model 6</th>\n",
       "      <th>Ground Truth</th>\n",
       "    </tr>\n",
       "  </thead>\n",
       "  <tbody>\n",
       "    <tr>\n",
       "      <th>0</th>\n",
       "      <td>sein</td>\n",
       "      <td>kurzer</td>\n",
       "      <td>hat</td>\n",
       "      <td>sein</td>\n",
       "      <td>dazu</td>\n",
       "      <td>sein</td>\n",
       "      <td>sein</td>\n",
       "    </tr>\n",
       "    <tr>\n",
       "      <th>1</th>\n",
       "      <td>engen</td>\n",
       "      <td>glieder</td>\n",
       "      <td>hohe</td>\n",
       "      <td>sterne</td>\n",
       "      <td>sterne</td>\n",
       "      <td>gebohrt</td>\n",
       "      <td>sterne</td>\n",
       "    </tr>\n",
       "    <tr>\n",
       "      <th>2</th>\n",
       "      <td>fremde</td>\n",
       "      <td>innigem</td>\n",
       "      <td>famulus</td>\n",
       "      <td>denn</td>\n",
       "      <td>seit</td>\n",
       "      <td>gott</td>\n",
       "      <td>oberon</td>\n",
       "    </tr>\n",
       "    <tr>\n",
       "      <th>3</th>\n",
       "      <td>sich</td>\n",
       "      <td>mir</td>\n",
       "      <td>wir</td>\n",
       "      <td>faust</td>\n",
       "      <td>sich</td>\n",
       "      <td>ihn</td>\n",
       "      <td>uns</td>\n",
       "    </tr>\n",
       "    <tr>\n",
       "      <th>4</th>\n",
       "      <td>säuseln</td>\n",
       "      <td>zu</td>\n",
       "      <td>tritt</td>\n",
       "      <td>in</td>\n",
       "      <td>ist</td>\n",
       "      <td>nicht</td>\n",
       "      <td>dich</td>\n",
       "    </tr>\n",
       "    <tr>\n",
       "      <th>5</th>\n",
       "      <td>mich</td>\n",
       "      <td>nicht</td>\n",
       "      <td>nicht</td>\n",
       "      <td>dir</td>\n",
       "      <td>nicht</td>\n",
       "      <td>noch</td>\n",
       "      <td>euch</td>\n",
       "    </tr>\n",
       "    <tr>\n",
       "      <th>6</th>\n",
       "      <td>beiden</td>\n",
       "      <td>geist</td>\n",
       "      <td>pfarrer</td>\n",
       "      <td>der</td>\n",
       "      <td>ein</td>\n",
       "      <td>kräfte</td>\n",
       "      <td>der</td>\n",
       "    </tr>\n",
       "    <tr>\n",
       "      <th>7</th>\n",
       "      <td>pöbel</td>\n",
       "      <td>heftgen</td>\n",
       "      <td>welsche</td>\n",
       "      <td>pöbel</td>\n",
       "      <td>pöbel</td>\n",
       "      <td>pöbel</td>\n",
       "      <td>pöbel</td>\n",
       "    </tr>\n",
       "    <tr>\n",
       "      <th>8</th>\n",
       "      <td>diesem</td>\n",
       "      <td>diesem</td>\n",
       "      <td>den</td>\n",
       "      <td>eurer</td>\n",
       "      <td>jedem</td>\n",
       "      <td>dem</td>\n",
       "      <td>eurer</td>\n",
       "    </tr>\n",
       "    <tr>\n",
       "      <th>9</th>\n",
       "      <td>ich</td>\n",
       "      <td>ich</td>\n",
       "      <td>ich</td>\n",
       "      <td>ich</td>\n",
       "      <td>ich</td>\n",
       "      <td>es</td>\n",
       "      <td>ich</td>\n",
       "    </tr>\n",
       "    <tr>\n",
       "      <th>10</th>\n",
       "      <td>allein</td>\n",
       "      <td>der</td>\n",
       "      <td>mit</td>\n",
       "      <td>wie</td>\n",
       "      <td>wie</td>\n",
       "      <td>o</td>\n",
       "      <td>wie</td>\n",
       "    </tr>\n",
       "    <tr>\n",
       "      <th>11</th>\n",
       "      <td>altes</td>\n",
       "      <td>darfst</td>\n",
       "      <td>zu</td>\n",
       "      <td>darfst</td>\n",
       "      <td>darfst</td>\n",
       "      <td>darfst</td>\n",
       "      <td>darfst</td>\n",
       "    </tr>\n",
       "    <tr>\n",
       "      <th>12</th>\n",
       "      <td>wiedersehn</td>\n",
       "      <td>wiedersehn</td>\n",
       "      <td>wiedersehn</td>\n",
       "      <td>wiedersehn</td>\n",
       "      <td>wiedersehn</td>\n",
       "      <td>wiedersehn</td>\n",
       "      <td>wiedersehn</td>\n",
       "    </tr>\n",
       "    <tr>\n",
       "      <th>13</th>\n",
       "      <td>klug</td>\n",
       "      <td>in</td>\n",
       "      <td>singe</td>\n",
       "      <td>hören</td>\n",
       "      <td>drein</td>\n",
       "      <td>nicht</td>\n",
       "      <td>recht</td>\n",
       "    </tr>\n",
       "    <tr>\n",
       "      <th>14</th>\n",
       "      <td>löst</td>\n",
       "      <td>offenbart</td>\n",
       "      <td>zu</td>\n",
       "      <td>verachte</td>\n",
       "      <td>sprengt</td>\n",
       "      <td>deutend</td>\n",
       "      <td>es</td>\n",
       "    </tr>\n",
       "  </tbody>\n",
       "</table>\n",
       "</div>"
      ],
      "text/plain": [
       "       Model 1     Model 2     Model 3     Model 4     Model 5     Model 6  \\\n",
       "0         sein      kurzer         hat        sein        dazu        sein   \n",
       "1        engen     glieder        hohe      sterne      sterne     gebohrt   \n",
       "2       fremde     innigem     famulus        denn        seit        gott   \n",
       "3         sich         mir         wir       faust        sich         ihn   \n",
       "4      säuseln          zu       tritt          in         ist       nicht   \n",
       "5         mich       nicht       nicht         dir       nicht        noch   \n",
       "6       beiden       geist     pfarrer         der         ein      kräfte   \n",
       "7        pöbel     heftgen     welsche       pöbel       pöbel       pöbel   \n",
       "8       diesem      diesem         den       eurer       jedem         dem   \n",
       "9          ich         ich         ich         ich         ich          es   \n",
       "10      allein         der         mit         wie         wie           o   \n",
       "11       altes      darfst          zu      darfst      darfst      darfst   \n",
       "12  wiedersehn  wiedersehn  wiedersehn  wiedersehn  wiedersehn  wiedersehn   \n",
       "13        klug          in       singe       hören       drein       nicht   \n",
       "14        löst   offenbart          zu    verachte     sprengt     deutend   \n",
       "\n",
       "   Ground Truth  \n",
       "0          sein  \n",
       "1        sterne  \n",
       "2        oberon  \n",
       "3           uns  \n",
       "4          dich  \n",
       "5          euch  \n",
       "6           der  \n",
       "7         pöbel  \n",
       "8         eurer  \n",
       "9           ich  \n",
       "10          wie  \n",
       "11       darfst  \n",
       "12   wiedersehn  \n",
       "13        recht  \n",
       "14           es  "
      ]
     },
     "execution_count": 21,
     "metadata": {},
     "output_type": "execute_result"
    }
   ],
   "source": [
    "models = [model_1, model_2, model_3, model_4, model_5, model_6]\n",
    "# Dictionary to store the results of all models\n",
    "model_predictions = {}\n",
    "model_increment = 1\n",
    "\n",
    "for model in models:\n",
    "    # List to store each model's predicted token\n",
    "    predictions = []\n",
    "    \n",
    "    for seed_text in vectorized_seed_texts:\n",
    "        # Make a prediction\n",
    "        yhat = model.predict(seed_text, verbose = 0)\n",
    "        # Obtain the predicted index\n",
    "        predicted_index = np.argmax(yhat, axis=-1)[0]\n",
    "        # Map the predicted index to the corresponding word in the vocabulary\n",
    "        predicted_word = vocab[predicted_index] if predicted_index < len(vocab) else \"UNK\"\n",
    "        # Store the prediction in the list\n",
    "        predictions.append(predicted_word)\n",
    "    \n",
    "    # Store all model predictions in the dictionary\n",
    "    model_predictions[f\"Model {model_increment}\"] = predictions\n",
    "    model_increment += 1\n",
    "\n",
    "# Convert the dictionary to a dataframe and add a column with the ground truth tokens\n",
    "results = pd.DataFrame.from_dict(model_predictions)\n",
    "results[\"Ground Truth\"] = ground_truth_tokens\n",
    "# Show the results\n",
    "results"
   ]
  },
  {
   "cell_type": "markdown",
   "id": "4b64813d-941a-449f-adea-a06dc9377c80",
   "metadata": {},
   "source": [
    "We can also calculate how many correct matches each model has predicted. The *pandas* `eq` method compares each model column against the *ground_truth* column and returns `True` or `False`, depending on whether the values match or not. We can then sum the results along the columns which will give us the number of matches since `True` is counted as 1."
   ]
  },
  {
   "cell_type": "code",
   "execution_count": 22,
   "id": "3c65da7e-0166-48e6-a044-48ab7aa1c3c0",
   "metadata": {
    "tags": []
   },
   "outputs": [
    {
     "data": {
      "text/plain": [
       "Model 1    4\n",
       "Model 2    3\n",
       "Model 3    2\n",
       "Model 4    9\n",
       "Model 5    6\n",
       "Model 6    4\n",
       "dtype: int64"
      ]
     },
     "execution_count": 22,
     "metadata": {},
     "output_type": "execute_result"
    }
   ],
   "source": [
    "comp = results.iloc[:, :-1].eq(results[\"Ground Truth\"], axis = 0)\n",
    "match_counts = comp.sum(axis = 0)\n",
    "match_counts"
   ]
  },
  {
   "cell_type": "markdown",
   "id": "36661a8f-8a06-432e-94cb-b1c2513284fc",
   "metadata": {},
   "source": [
    "In addition, we can use the previously exported **training histories** do display the model's **loss and accuracy** numbers. First, the model histories are loaded and then plotted."
   ]
  },
  {
   "cell_type": "code",
   "execution_count": 23,
   "id": "900c3983-248b-4dc5-801a-f00ce7e7470c",
   "metadata": {
    "tags": []
   },
   "outputs": [],
   "source": [
    "# Load the model histories\n",
    "path = \"./models/\"\n",
    "filenames = [\"model_1_50_epochs_batch_size_64_history.json\", \"model_2_50_epochs_batch_size_128_history.json\",\n",
    "             \"model_3_50_epochs_batch_size_256_history.json\", \"model_4_100_epochs_batch_size_64_history.json\",\n",
    "             \"model_5_100_epochs_batch_size_128_history.json\", \"model_6_100_epochs_batch_size_256_history.json\"]\n",
    "\n",
    "model_histories = {}\n",
    "for i, filename in enumerate(filenames, 1):\n",
    "    with open(f\"{path}{filename}\", \"r\") as file:\n",
    "        model_histories[f\"model_{i}_history\"] = json.load(file)"
   ]
  },
  {
   "cell_type": "code",
   "execution_count": 24,
   "id": "845286cc-9385-47d8-9c68-368656f769bb",
   "metadata": {
    "tags": []
   },
   "outputs": [
    {
     "data": {
      "image/png": "[encoded data removed]",
      "text/plain": [
       "<Figure size 1600x800 with 6 Axes>"
      ]
     },
     "metadata": {},
     "output_type": "display_data"
    }
   ],
   "source": [
    "# Plot the model histories\n",
    "# Save histories in a list\n",
    "histories = []\n",
    "for history in model_histories.values():\n",
    "    histories.append(history)\n",
    "# Create list with subplot titles\n",
    "titles = [\"Model 1 (50 epochs, 64 batches)\", \"Model 2 (50 epochs, 128 batches)\", \n",
    "          \"Model 3 (50 epochs, 256 batches)\", \"Model 4 (100 epochs, 64 batches)\",\n",
    "          \"Model 5 (100 epochs, 128 batches)\", \"Model 6 (100 epochs, 256 batches)\"]\n",
    "\n",
    "# Create the chart with 2 rows and 3 columns\n",
    "fig, axes = plt.subplots(2, 3, sharex = True, sharey = True)#, sharex=True, sharey=True)\n",
    "axes = axes.flatten()\n",
    "fig.set_figheight(8)\n",
    "fig.set_figwidth(16)\n",
    "fig.suptitle(\"Model training history\", fontsize = 12)\n",
    "\n",
    "# Loop through each model history create each subplot\n",
    "for i, (model_history, title) in enumerate(zip(histories, titles)):\n",
    "    axes[i].plot(model_history[\"accuracy\"], label = \"Accuracy\")\n",
    "    axes[i].plot(model_history[\"loss\"], label = \"Loss\")\n",
    "    axes[i].set_title(title, fontsize = 10)\n",
    "    # Add x and y axis labels only for certain subplots\n",
    "    if i >= 3:\n",
    "        axes[i].set_xlabel(\"Epochs\", fontsize = 10)\n",
    "    if i in [0, 3]:\n",
    "        axes[i].set_ylabel(\"Metric\", fontsize = 10)\n",
    "    axes[i].grid()\n",
    "\n",
    "# Add axis ticks and numbers\n",
    "for ax in axes:\n",
    "    ax.tick_params(axis='x', which='both', bottom=True, top=False, labelbottom=True, labelsize = 8)\n",
    "    ax.tick_params(axis='y', which='both', left=True, right=False, labelleft=True, labelright=False, labelsize = 8)\n",
    "\n",
    "# Add legend\n",
    "fig.legend([\"Accuracy\", \"Loss\"], loc=\"right\")\n",
    "\n",
    "plt.show()"
   ]
  },
  {
   "cell_type": "markdown",
   "id": "bbcf0e74-24ed-415a-a492-ee5369a37710",
   "metadata": {},
   "source": [
    "The **loss metric** shows - especially for the models that have been trained for 100 epochs - that smaller batch sizes indeed lead to noisier gradients. Model 6 shows a smoother loss curve. However, the **accuracy metrics** are not really good for any model. Nonetheless, model 4 seems to be the best out of the ones trained as it has the highest accuracy and the lowest loss score. During the limited test run, it also made the most correct predictions with 60% of the generated tokens being correct."
   ]
  },
  {
   "cell_type": "markdown",
   "id": "0a86c79e-e601-4c82-bc6c-c687bc182ea7",
   "metadata": {
    "tags": []
   },
   "source": [
    "### Text Generation <a id=\"text_generation\"></a>\n",
    "\n",
    "Finally, we can use one of the models to randomly generate a new masterpiece in the style of Goethe. Based on the limited testing above, it seems that **model 4** (100 epochs with a batch size of 64) **performs best**. New text is generating by using the seed text to predict the next token index. Then, the first index is removed from the seed text tensor and the predicted integer is appended to its end. The tensor - modified in this way - now forms the basis for the next prediction and so on."
   ]
  },
  {
   "cell_type": "code",
   "execution_count": 25,
   "id": "9e87ffd4-3030-4f93-ae74-eca79ada5929",
   "metadata": {},
   "outputs": [
    {
     "name": "stdout",
     "output_type": "stream",
     "text": [
      "Seed text:\n",
      "streben ich säh im ewigen abendstrahl die stille welt zu meinen füßen entzündet alle höhn beruhigt jedes tal den silberbach in goldne ströme fließen nicht hemmte dann den göttergleichen lauf der wilde berg mit allen seinen schluchten schon tut das meer sich mit erwärmten buchten vor den erstaunten augen auf doch\n",
      "\n",
      "Generated text:\n",
      "scheint die göttin endlich wegzusinken allein und weit hinzugehn und zehn ist keins das ist das hexeneinmaleins faust mich dünkt die alte weib hin da hinzugeben in und lindern der eine büchsen rings umstellt mit instrumenten duft und kriege das volle heilge römsche reich wie hälts nur nicht zusammen braut was\n"
     ]
    }
   ],
   "source": [
    "# Pick a random seed text\n",
    "seed_text = sequences[random.randint(0, len(sequences))]\n",
    "\n",
    "# Vectorize the seed text\n",
    "vectorized_seed_text = vectorizer([seed_text])\n",
    "\n",
    "for i in range(51):\n",
    "    # Make a prediction\n",
    "    yhat = model_4.predict(vectorized_seed_text, verbose = 0)\n",
    "    # Obtain the predicted index\n",
    "    predicted_index = np.argmax(yhat, axis = -1)[0]\n",
    "    # Remove the first index from the seed text tensor\n",
    "    vectorized_seed_text = vectorized_seed_text[:, 1:]\n",
    "    # Add the predicted index to the end of the seed text tensor\n",
    "    vectorized_seed_text = tf.concat([vectorized_seed_text, [[predicted_index]]], axis = 1)\n",
    "\n",
    "# Convert the seed text tensor to text\n",
    "generated_text = []\n",
    "for i in vectorized_seed_text:\n",
    "    for j in i:\n",
    "        word = vocab[j]\n",
    "        generated_text.append(word) if predicted_index < len(vocab) else \"UNK\"\n",
    "\n",
    "print(f\"Seed text:\\n{seed_text}\\n\")\n",
    "print(f\"Generated text:\\n{' '.join(generated_text)}\")"
   ]
  },
  {
   "cell_type": "markdown",
   "id": "71238968-1dec-49c9-a5eb-c6be58a0c809",
   "metadata": {},
   "source": [
    "The generated text does not make much sense, but this is obviously due to the model's quality. It shows that the approach works well in principle, but more time (i.e., more epochs) is required to train the model in a way that achieves better results."
   ]
  },
  {
   "cell_type": "markdown",
   "id": "65330151-fa20-418c-adb6-f5fd8f9300b0",
   "metadata": {
    "tags": []
   },
   "source": [
    "## Sources <a id=\"sources\"></a>\n",
    "\n",
    "<a name=\"footnote-1\"></a><sup>1</sup> [Britz, D. (2015). *Recurrent Neural Networks Tutorial, Part 1 – Introduction to RNNs*.](https://dennybritz.com/posts/wildml/recurrent-neural-networks-tutorial-part-1/) [$\\uparrow$](#footnote_ref-1) <br>\n",
    "<a name=\"footnote-2\"></a><sup>2</sup> [GeeksforGeeks (2023). *Introduction to Recurrent Neural Network*.](https://www.geeksforgeeks.org/introduction-to-recurrent-neural-network/) [$\\uparrow$](#footnote_ref-2) <br>\n",
    "<a name=\"footnote-3\"></a><sup>3</sup> [Goodfellow, I, Bengio, Y & Courville, A (2023). *Deep Learning*. MIT Press](https://www.deeplearningbook.org/contents/rnn.html), p. 368. [$\\uparrow$](#footnote_ref-3) <br>\n",
    "<a name=\"footnote-4\"></a><sup>4</sup> [Goodfellow, I, Bengio, Y & Courville, A (2023). *Deep Learning*. MIT Press](https://www.deeplearningbook.org/contents/rnn.html), p. 368-372. [$\\uparrow$](#footnote_ref-4) <br>\n",
    "<a name=\"footnote-5\"></a><sup>5</sup> [Goodfellow, I, Bengio, Y & Courville, A (2023). *Deep Learning*. MIT Press](https://www.deeplearningbook.org/contents/rnn.html), p. 374. [$\\uparrow$](#footnote_ref-5) <br>\n",
    "<a name=\"footnote-6\"></a><sup>6</sup> [Stanford course CS224N - Natural Language Processing with Deep Learning (2019). *Language Models, RNN, GRU and LSTM*.](https://web.stanford.edu/class/cs224n/readings/cs224n-2019-notes05-LM_RNN.pdf) [$\\uparrow$](#footnote_ref-6) <br>\n",
    "<a name=\"footnote-7\"></a><sup>7</sup> Example from [Tovar, A. D (2019). *Negative log likelihood expplained*.](https://medium.com/deeplearningmadeeasy/negative-log-likelihood-6bd79b55d8b6) [$\\uparrow$](#footnote_ref-7) <br>\n",
    "<a name=\"footnote-8\"></a><sup>8</sup> [Goodfellow, I, Bengio, Y & Courville, A (2023). *Deep Learning*. MIT Press](https://www.deeplearningbook.org/contents/rnn.html), p. 374. [$\\uparrow$](#footnote_ref-8) <br>\n",
    "<a name=\"footnote-9\"></a><sup>9</sup> [O'Reilly (2024). *Multi-class cross entropy loss*.](https://scikit-learn.org/stable/modules/generated/sklearn.metrics.classification_report.html) [$\\uparrow$](#footnote_ref-9) <br>\n",
    "<a name=\"footnote-10\"></a><sup>10</sup> [Brownlee, J. (2020). *A Gentle Introduction to Backpropagation Through Time*.](https://machinelearningmastery.com/gentle-introduction-backpropagation-time/) [$\\uparrow$](#footnote_ref-10) <br>\n",
    "<a name=\"footnote-11\"></a><sup>11</sup> [Britz, D. (2015). *Recurrent Neural Networks Tutorial, Part 2 – Implementing a RNN with Python, Numpy and Theano*.](https://dennybritz.com/posts/wildml/recurrent-neural-networks-tutorial-part-2/) [$\\uparrow$](#footnote_ref-11) <br>\n",
    "<a name=\"footnote-12\"></a><sup>12</sup> [Sidhart (2023). *Backpropagation Through Time (BPTT): Explained With Derivations*.](https://www.pycodemates.com/2023/08/backpropagation-through-time-explained-with-derivations.html) [$\\uparrow$](#footnote_ref-12) <br>\n",
    "<a name=\"footnote-13\"></a><sup>13</sup> [Britz, D. (2015). *Recurrent Neural Networks Tutorial, Part 3 – Backpropagation Through Time and Vanishing Gradients*.](https://dennybritz.com/posts/wildml/recurrent-neural-networks-tutorial-part-3/) [$\\uparrow$](#footnote_ref-13) <br>\n",
    "<a name=\"footnote-14\"></a><sup>14</sup> [Goodfellow, I, Bengio, Y & Courville, A (2023). *Deep Learning*. MIT Press](https://www.deeplearningbook.org/contents/rnn.html), p. 374-376. [$\\uparrow$](#footnote_ref-14) <br>\n",
    "<a name=\"footnote-15\"></a><sup>15</sup> [Hochreiter, S., Schmidhuber, J. (1997), Long Short-Term Memory, *Neural Computation*, vol. 9(8), pp 1735–1780.](https://www.bioinf.jku.at/publications/older/2604.pdf) [$\\uparrow$](#footnote_ref-15) <br>\n",
    "<a name=\"footnote-16\"></a><sup>16</sup> [Olah, C. (2015). *Understanding LSTM Networks*.](https://colah.github.io/posts/2015-08-Understanding-LSTMs/) [$\\uparrow$](#footnote_ref-16) <br>\n",
    "<a name=\"footnote-17\"></a><sup>17</sup> [Dive into Deep Learning. (2024). *Long Short-Term Memory (LSTM)*.](https://d2l.ai/chapter_recurrent-modern/lstm.html) [$\\uparrow$](#footnote_ref-17) <br>\n",
    "<a name=\"footnote-18\"></a><sup>18</sup> [Feng, C. (2023). *Machine Learning Notebook*](https://calvinfeng.gitbook.io/machine-learning-notebook/supervised-learning/recurrent-neural-network/long_short_term_memory) [$\\uparrow$](#footnote_ref-18) <br>\n",
    "<a name=\"footnote-19\"></a><sup>19</sup> Inspired by [Brownlee, J. (2020). *How to Develop a Word-Level Neural Language Model and Use it to Generate Text*.](https://machinelearningmastery.com/how-to-develop-a-word-level-neural-language-model-in-keras/) [$\\uparrow$](#footnote_ref-19) <br>\n",
    "<a name=\"footnote-20\"></a><sup>20</sup> [De Silva, M. (2023). *Preprocessing Steps for Natural Language Processing (NLP): A Beginner’s Guide*.](https://medium.com/@maleeshadesilva21/preprocessing-steps-for-natural-language-processing-nlp-a-beginners-guide-d6d9bf7689c9) [$\\uparrow$](#footnote_ref-20) <br>\n",
    "<a name=\"footnote-21\"></a><sup>21</sup> [Mayo, M. (2022). *Natural Language Processing Key Terms, Explained*.](https://www.kdnuggets.com/2017/02/natural-language-processing-key-terms-explained.html) [$\\uparrow$](#footnote_ref-21) <br>\n",
    "<a name=\"footnote-22\"></a><sup>22</sup> [Ali Awan, A. (2023). *What is Tokenization?*.](https://www.datacamp.com/blog/what-is-tokenization) [$\\uparrow$](#footnote_ref-22) <br>\n",
    "<a name=\"footnote-23\"></a><sup>23</sup> [Wikipedia (2024). *Stemming*.](https://en.wikipedia.org/wiki/Stemming) [$\\uparrow$](#footnote_ref-23) <br>\n",
    "<a name=\"footnote-24\"></a><sup>24</sup> [Wikipedia (2023). *Lemmatization*.](https://en.wikipedia.org/wiki/Lemmatization) [$\\uparrow$](#footnote_ref-24) <br>\n",
    "<a name=\"footnote-25\"></a><sup>25</sup> [TensorFlow Documentation (2024). *tf.keras.layers.TextVectorization*.](https://www.tensorflow.org/api_docs/python/tf/keras/layers/TextVectorization) [$\\uparrow$](#footnote_ref-25) <br>\n",
    "<a name=\"footnote-26\"></a><sup>26</sup> [TensorFlow Documentation (2024). *Working with preprocessing layers - The adapt() method*.](https://www.tensorflow.org/guide/keras/preprocessing_layers#the_adapt_method) [$\\uparrow$](#footnote_ref-26) <br>\n",
    "<a name=\"footnote-27\"></a><sup>27</sup> [Brownlee, J. (2019). *Difference Between Return Sequences and Return States for LSTMs in Keras*.](https://machinelearningmastery.com/return-sequences-and-return-states-for-lstms-in-keras/) [$\\uparrow$](#footnote_ref-27) <br>\n",
    "<a name=\"footnote-28\"></a><sup>28</sup> [Brownlee, J. (2022). *Difference Between a Batch and an Epoch in a Neural Network*.](https://machinelearningmastery.com/difference-between-a-batch-and-an-epoch/) [$\\uparrow$](#footnote_ref-28) <br>\n",
    "<a name=\"footnote-29\"></a><sup>29</sup> [Stack Overflow (2020). *Neural Network : Epoch and Batch Size*.](https://stackoverflow.com/questions/64493769/neural-network-epoch-and-batch-size) [$\\uparrow$](#footnote_ref-29) <br>"
   ]
  }
 ],
 "metadata": {
  "kernelspec": {
   "display_name": "Python 3 (ipykernel)",
   "language": "python",
   "name": "python3"
  },
  "language_info": {
   "codemirror_mode": {
    "name": "ipython",
    "version": 3
   },
   "file_extension": ".py",
   "mimetype": "text/x-python",
   "name": "python",
   "nbconvert_exporter": "python",
   "pygments_lexer": "ipython3",
   "version": "3.11.3"
  }
 },
 "nbformat": 4,
 "nbformat_minor": 5
}
